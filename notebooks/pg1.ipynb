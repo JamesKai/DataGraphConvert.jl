{
 "cells": [
  {
   "cell_type": "code",
   "execution_count": 1,
   "metadata": {},
   "outputs": [],
   "source": [
    "using DataGraphConvert, DataFrames"
   ]
  },
  {
   "cell_type": "code",
   "execution_count": 3,
   "metadata": {},
   "outputs": [],
   "source": [
    "dt1 = DGraph(\"example1.dtable\")\n",
    "a = 1:0.1:10\n",
    "b = sin.(a) .* cos.(a)\n",
    "open(dt1) do dt\n",
    "    for i in 1:100\n",
    "        df = DataFrame(a = a, b = b*i/100)\n",
    "        add_df!(dt, df)\n",
    "    end\n",
    "end"
   ]
  },
  {
   "cell_type": "code",
   "execution_count": null,
   "metadata": {},
   "outputs": [],
   "source": [
    "dt1 = DGraph(\"example1_sync.dtable\")\n",
    "a = 1:0.1:10\n",
    "b = sin.(a)\n",
    "open(dt1) do dt\n",
    "    for i in 1:100\n",
    "        df = DataFrame(a = a, b = b .* i/100 .+ i .+ b.^2)\n",
    "        @sync_dgraph add_df!(dt, df)\n",
    "        sleep(0.45)\n",
    "    end\n",
    "end"
   ]
  },
  {
   "cell_type": "code",
   "execution_count": 3,
   "metadata": {},
   "outputs": [
    {
     "name": "stdout",
     "output_type": "stream",
     "text": [
      "The file example2_sync.dtable is already open\n"
     ]
    },
    {
     "data": {
      "text/plain": [
       "DTable(\"example2_sync.dtable\", \"example2_sync\", false)"
      ]
     },
     "execution_count": 3,
     "metadata": {},
     "output_type": "execute_result"
    }
   ],
   "source": [
    "dt1 = DGraph(\"example2_sync.dtable\")\n",
    "a = 1:0.1:10\n",
    "b = sin.(a)\n",
    "dt = open(dt1)\n",
    "for i in 1:100\n",
    "    df = DataFrame(a = a, b = b*i/100)\n",
    "    @sync_dgraph add_df!(dt, df)\n",
    "    sleep(0.5)\n",
    "end\n",
    "close(dt)"
   ]
  },
  {
   "cell_type": "code",
   "execution_count": null,
   "metadata": {},
   "outputs": [],
   "source": [
    "dtb1 = DGraph(\"example3_sync.dtbin\")\n",
    "a = 1:0.1:10\n",
    "b = cos.(a)\n",
    "open(dtb1) do dtb\n",
    "    for i in 1:100\n",
    "        df = DataFrame(a = a, b = b*i/100)\n",
    "        @sync_dgraph add_df!(dtb, \"new df $i\", df)\n",
    "        sleep(0.8)\n",
    "    end\n",
    "end"
   ]
  }
 ],
 "metadata": {
  "kernelspec": {
   "display_name": "Julia 1.11.5",
   "language": "julia",
   "name": "julia-1.11"
  },
  "language_info": {
   "file_extension": ".jl",
   "mimetype": "application/julia",
   "name": "julia",
   "version": "1.11.5"
  }
 },
 "nbformat": 4,
 "nbformat_minor": 2
}
